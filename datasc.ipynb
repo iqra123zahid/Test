{
 "cells": [
  {
   "cell_type": "code",
   "execution_count": 38,
   "metadata": {},
   "outputs": [],
   "source": [
    "from selenium import webdriver \n",
    "from webdriver_manager.chrome import ChromeDriverManager\n",
    "from selenium.webdriver.common.keys import Keys"
   ]
  },
  {
   "cell_type": "code",
   "execution_count": 39,
   "metadata": {},
   "outputs": [
    {
     "name": "stdout",
     "output_type": "stream",
     "text": [
      "\n",
      "Looking for [chromedriver 79.0.3945.36 win32] driver in cache \n",
      "File found in cache by path [C:\\Users\\hp\\.wdm\\drivers\\chromedriver\\79.0.3945.36\\win32\\chromedriver.exe]\n"
     ]
    }
   ],
   "source": [
    "#import time \n",
    "driver = webdriver.Chrome(ChromeDriverManager().install())"
   ]
  },
  {
   "cell_type": "code",
   "execution_count": 40,
   "metadata": {},
   "outputs": [],
   "source": [
    "#Link that you wish to scrape from:\n",
    "driver.get(\"https://github.com/login\")"
   ]
  },
  {
   "cell_type": "code",
   "execution_count": 41,
   "metadata": {},
   "outputs": [],
   "source": [
    "#Get the id of field - store it in a varible\n",
    "email = driver.find_element_by_id(\"login_field\")"
   ]
  },
  {
   "cell_type": "code",
   "execution_count": 42,
   "metadata": {},
   "outputs": [],
   "source": [
    "#send user name details\n",
    "email.send_keys(\"iqra123zahid\")\n",
    "pwd = driver.find_element_by_id(\"password\")\n",
    "#send password details\n",
    "pwd.send_keys(\"mee&my4854\")"
   ]
  },
  {
   "cell_type": "code",
   "execution_count": 43,
   "metadata": {},
   "outputs": [],
   "source": [
    "signin = driver.find_element_by_name(\"commit\")\n",
    "signin.click()\n"
   ]
  },
  {
   "cell_type": "code",
   "execution_count": 44,
   "metadata": {},
   "outputs": [],
   "source": [
    "search = driver.find_element_by_name(\"q\")\n"
   ]
  },
  {
   "cell_type": "code",
   "execution_count": 45,
   "metadata": {},
   "outputs": [],
   "source": [
    "#enter scraping criteria:\n",
    "search.send_keys(\"voice\")"
   ]
  },
  {
   "cell_type": "code",
   "execution_count": 46,
   "metadata": {},
   "outputs": [],
   "source": [
    "#below statement performs clicking enter functionality:\n",
    "search.send_keys(Keys.ENTER)"
   ]
  },
  {
   "cell_type": "code",
   "execution_count": 47,
   "metadata": {},
   "outputs": [
    {
     "name": "stdout",
     "output_type": "stream",
     "text": [
      "PaulWoitaschek/Voice\n",
      "CorentinJ/Real-Time-Voice-Cloning\n",
      "liaojinxing/Voice2Note\n",
      "mozilla/voice-web\n",
      "andabi/deep-voice-conversion\n",
      "jasperproject/jasper-client\n",
      "zenorocha/voice-elements\n",
      "plivo/voicechat\n",
      "ws123/VoiceLine\n",
      "feross/simple-peer\n"
     ]
    }
   ],
   "source": [
    "for vari in range(1,11):\n",
    "    title = driver.find_element_by_xpath(\"/html/body/div[4]/main/div/div[3]/div/ul/li[\"+str(vari)+\"]/div[2]/div[1]/a\")\n",
    "    print(title.text)"
   ]
  },
  {
   "cell_type": "code",
   "execution_count": 53,
   "metadata": {},
   "outputs": [
    {
     "name": "stdout",
     "output_type": "stream",
     "text": [
      "PaulWoitaschek/Voice\n"
     ]
    }
   ],
   "source": [
    "title = driver.find_element_by_xpath(\"/html/body/div[4]/main/div/div[3]/div/ul/li[1]/div[2]/div[1]/a\")\n",
    "print(title.text)"
   ]
  },
  {
   "cell_type": "code",
   "execution_count": 54,
   "metadata": {},
   "outputs": [],
   "source": [
    "var = driver.find_element_by_xpath(\"/html/body/div[4]/main/div/div[3]/div/ul/li[1]/div[2]/div[2]/div[2]/div[1]/a\")"
   ]
  },
  {
   "cell_type": "code",
   "execution_count": 55,
   "metadata": {},
   "outputs": [
    {
     "name": "stdout",
     "output_type": "stream",
     "text": [
      "1.2k\n"
     ]
    }
   ],
   "source": [
    "print(var.text)"
   ]
  },
  {
   "cell_type": "code",
   "execution_count": 56,
   "metadata": {},
   "outputs": [],
   "source": [
    "var = driver.find_element_by_xpath(\"/html/body/div[4]/main/div/div[3]/div/ul/li[1]/div[2]/div[2]/div[2]/div[2]/span/span[2]\")"
   ]
  },
  {
   "cell_type": "code",
   "execution_count": 57,
   "metadata": {},
   "outputs": [
    {
     "name": "stdout",
     "output_type": "stream",
     "text": [
      "Kotlin\n"
     ]
    }
   ],
   "source": [
    "print(var.text)"
   ]
  },
  {
   "cell_type": "code",
   "execution_count": 58,
   "metadata": {},
   "outputs": [],
   "source": [
    "var = driver.find_element_by_xpath(\"/html/body/div[4]/main/div/div[3]/div/ul/li[2]/div[2]/div[1]/a\")"
   ]
  },
  {
   "cell_type": "code",
   "execution_count": 59,
   "metadata": {},
   "outputs": [
    {
     "name": "stdout",
     "output_type": "stream",
     "text": [
      "CorentinJ/Real-Time-Voice-Cloning\n"
     ]
    }
   ],
   "source": [
    "print(var.text)"
   ]
  },
  {
   "cell_type": "code",
   "execution_count": 62,
   "metadata": {},
   "outputs": [],
   "source": [
    "var = driver.find_element_by_xpath(\"/html/body/div[4]/main/div/div[3]/div/ul/li[2]/div[2]/div[2]/div[2]/div[1]/a\")"
   ]
  },
  {
   "cell_type": "code",
   "execution_count": 63,
   "metadata": {},
   "outputs": [
    {
     "name": "stdout",
     "output_type": "stream",
     "text": [
      "14.9k\n"
     ]
    }
   ],
   "source": [
    "print(var.text)"
   ]
  },
  {
   "cell_type": "code",
   "execution_count": 64,
   "metadata": {},
   "outputs": [],
   "source": [
    "var = driver.find_element_by_xpath(\"/html/body/div[4]/main/div/div[3]/div/ul/li[2]/div[2]/div[2]/div[2]/div[2]/span/span[2]\")"
   ]
  },
  {
   "cell_type": "code",
   "execution_count": 65,
   "metadata": {},
   "outputs": [
    {
     "name": "stdout",
     "output_type": "stream",
     "text": [
      "Python\n"
     ]
    }
   ],
   "source": [
    "print(var.text)"
   ]
  },
  {
   "cell_type": "code",
   "execution_count": null,
   "metadata": {},
   "outputs": [],
   "source": []
  },
  {
   "cell_type": "code",
   "execution_count": null,
   "metadata": {},
   "outputs": [],
   "source": []
  },
  {
   "cell_type": "code",
   "execution_count": null,
   "metadata": {},
   "outputs": [],
   "source": []
  },
  {
   "cell_type": "code",
   "execution_count": null,
   "metadata": {},
   "outputs": [],
   "source": []
  },
  {
   "cell_type": "code",
   "execution_count": null,
   "metadata": {},
   "outputs": [],
   "source": []
  }
 ],
 "metadata": {
  "kernelspec": {
   "display_name": "Python 3",
   "language": "python",
   "name": "python3"
  },
  "language_info": {
   "codemirror_mode": {
    "name": "ipython",
    "version": 3
   },
   "file_extension": ".py",
   "mimetype": "text/x-python",
   "name": "python",
   "nbconvert_exporter": "python",
   "pygments_lexer": "ipython3",
   "version": "3.6.4"
  }
 },
 "nbformat": 4,
 "nbformat_minor": 2
}
