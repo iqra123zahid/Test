{
 "cells": [
  {
   "cell_type": "code",
   "execution_count": 1,
   "metadata": {},
   "outputs": [],
   "source": [
    "from selenium import webdriver \n",
    "from webdriver_manager.chrome import ChromeDriverManager\n",
    "from selenium.webdriver.common.keys import Keys"
   ]
  },
  {
   "cell_type": "code",
   "execution_count": 2,
   "metadata": {},
   "outputs": [
    {
     "name": "stdout",
     "output_type": "stream",
     "text": [
      "\n",
      "Looking for [chromedriver 79.0.3945.36 win32] driver in cache \n",
      "File found in cache by path [C:\\Users\\hp\\.wdm\\drivers\\chromedriver\\79.0.3945.36\\win32\\chromedriver.exe]\n"
     ]
    }
   ],
   "source": [
    "#import time \n",
    "driver = webdriver.Chrome(ChromeDriverManager().install())"
   ]
  },
  {
   "cell_type": "code",
   "execution_count": 3,
   "metadata": {},
   "outputs": [],
   "source": [
    "#Link that you wish to scrape from:\n",
    "driver.get(\"https://github.com/login\")"
   ]
  },
  {
   "cell_type": "code",
   "execution_count": 4,
   "metadata": {},
   "outputs": [],
   "source": [
    "#Get the id of field - store it in a varible\n",
    "email = driver.find_element_by_id(\"login_field\")"
   ]
  },
  {
   "cell_type": "code",
   "execution_count": 5,
   "metadata": {},
   "outputs": [],
   "source": [
    "#send user name details\n",
    "email.send_keys(\"iqra123zahid\")\n",
    "pwd = driver.find_element_by_id(\"password\")\n",
    "#send password details\n",
    "pwd.send_keys(\"mee&my4854\")"
   ]
  },
  {
   "cell_type": "code",
   "execution_count": 6,
   "metadata": {},
   "outputs": [],
   "source": [
    "signin = driver.find_element_by_name(\"commit\")\n",
    "signin.click()"
   ]
  },
  {
   "cell_type": "code",
   "execution_count": 7,
   "metadata": {},
   "outputs": [],
   "source": [
    "search = driver.find_element_by_name(\"q\")"
   ]
  },
  {
   "cell_type": "code",
   "execution_count": 8,
   "metadata": {},
   "outputs": [],
   "source": [
    "#enter scraping criteria:\n",
    "search.send_keys(\"voice classification\")"
   ]
  },
  {
   "cell_type": "code",
   "execution_count": 9,
   "metadata": {},
   "outputs": [],
   "source": [
    "#below statement performs clicking enter functionality:\n",
    "search.send_keys(Keys.ENTER)"
   ]
  },
  {
   "cell_type": "code",
   "execution_count": 10,
   "metadata": {},
   "outputs": [],
   "source": [
    "OutputFile = open(\"output.txt\",\"w\")"
   ]
  },
  {
   "cell_type": "code",
   "execution_count": 11,
   "metadata": {},
   "outputs": [
    {
     "name": "stdout",
     "output_type": "stream",
     "text": [
      "Repositories\n",
      "138\n",
      "Code\n",
      "623K\n",
      "Commits\n",
      "123\n",
      "Issues\n",
      "1K\n",
      "Packages\n",
      "0\n",
      "Marketplace\n",
      "0\n",
      "Topics\n",
      "0\n",
      "Wikis\n",
      "302\n",
      "Users\n",
      "1\n"
     ]
    }
   ],
   "source": [
    "element=driver.find_elements_by_xpath('/html/body/div[4]/main/div/div[2]/nav[1]')\n",
    "for value in element:\n",
    "    print(value.text)\n",
    "    OutputFile.writelines(value.text)"
   ]
  },
  {
   "cell_type": "code",
   "execution_count": 12,
   "metadata": {},
   "outputs": [
    {
     "name": "stdout",
     "output_type": "stream",
     "text": [
      "Languages\n",
      "45\n",
      "Jupyter Notebook\n",
      "45\n",
      "Python\n",
      "8\n",
      "MATLAB\n",
      "5\n",
      "JavaScript\n",
      "5\n",
      "R\n",
      "2\n",
      "C\n",
      "2\n",
      "HTML\n",
      "2\n",
      "Java\n",
      "1\n",
      "Roff\n",
      "1\n",
      "Perl 6\n"
     ]
    }
   ],
   "source": [
    "element=driver.find_elements_by_xpath('/html/body/div[4]/main/div/div[2]/div[1]')\n",
    "for value in element:\n",
    "    print(value.text)\n",
    "    OutputFile.writelines(value.text)"
   ]
  },
  {
   "cell_type": "code",
   "execution_count": 13,
   "metadata": {},
   "outputs": [
    {
     "name": "stdout",
     "output_type": "stream",
     "text": [
      "hamzag95/voice-classification\n",
      "tiepvupsu/zalo_voice\n",
      "manishmalik/Voice-Classification\n",
      "gionanide/Speech_Signal_Processing_and_Classification\n",
      "singhamanraj/Gender-Voice-Recognition_Machine-Learning\n",
      "keums/melodyExtraction_JDC\n",
      "anshulshah96/Voice-Synthesizer\n",
      "theSoenke/VoiceClassification\n",
      "dashayushman/Voice\n",
      "gwillig/Digital-signal-processing-2-Voice-recognition-classification\n"
     ]
    }
   ],
   "source": [
    "titlel= []\n",
    "titlel = driver.find_elements_by_xpath('//a[@class=\"v-align-middle\"]')\n",
    "# print(len(titlel))\n",
    "for i in titlel:\n",
    "    print(i.text)\n",
    "    OutputFile.writelines(i.text)"
   ]
  },
  {
   "cell_type": "code",
   "execution_count": 14,
   "metadata": {},
   "outputs": [
    {
     "name": "stdout",
     "output_type": "stream",
     "text": [
      "hamzag95/voice-classification\n",
      "62\n",
      "Jupyter Notebook\n",
      "Updated on Oct 24, 2019\n",
      "tiepvupsu/zalo_voice\n",
      "Zalo AI chalenge Voice Gender classification (https://challenge.zalo.ai/)\n",
      "87\n",
      "Python\n",
      "Updated on Sep 7, 2018\n",
      "manishmalik/Voice-Classification\n",
      "Gender Classification from voice\n",
      "11\n",
      "Python\n",
      "Updated on Apr 27, 2015\n",
      "gionanide/Speech_Signal_Processing_and_Classification\n",
      "interesting in voice disorder classification. That is, to develop two-class classifiers, which can discriminate betw…\n",
      "speech-processing speech-utterance linear-prediction-coefficients mfcc classifier nlp natural-language-processing feature-extraction nltk gaussian-mixture-models support-vector-machines principal-component-analysis linear-discriminant-analysis isomap spectral-clustering long-short-term-memory kernel-pca spectral-embedding locally-linear-embedding\n",
      "94\n",
      "Python\n",
      "MIT license\n",
      "Updated on Nov 13, 2019\n",
      "singhamanraj/Gender-Voice-Recognition_Machine-Learning\n",
      "Supervised Machine Learning Classification Algorithms using Python and R (Logistic Regression, Decision Tree, Random …\n",
      "random-forest logistic-regression python-3 decision-tree svm-classifier scikitlearn-machine-learning rprogramming\n",
      "6\n",
      "Jupyter Notebook\n",
      "Updated on May 13, 2018\n",
      "keums/melodyExtraction_JDC\n",
      "\"Joint Detection and Classification of Singing Voice Melody Using Convolutional Recurrent Neural Networks\"\n",
      "melody-extraction deep-learning\n",
      "14\n",
      "Jupyter Notebook\n",
      "MIT license\n",
      "Updated 28 days ago\n",
      "anshulshah96/Voice-Synthesizer\n",
      "Voice based Classification\n",
      "3\n",
      "Jupyter Notebook\n",
      "MIT license\n",
      "Updated on May 12, 2017\n",
      "theSoenke/VoiceClassification\n",
      "Voice Classification with the Mozilla Common Voice Dataset\n",
      "5\n",
      "Python\n",
      "MIT license\n",
      "Updated on Feb 14, 2018\n",
      "dashayushman/Voice\n",
      "to support people with partial or total speech impairment and elderly citizens with speech or motor impairment with …\n",
      "3\n",
      "JavaScript\n",
      "Updated on Jan 11, 2017\n",
      "gwillig/Digital-signal-processing-2-Voice-recognition-classification\n",
      "This project trains a computer program to identify the voice of the speaker. It was a part of the master's degree (El…\n",
      "1\n",
      "Python\n",
      "Updated on Apr 30, 2019\n"
     ]
    }
   ],
   "source": [
    "titlel= []\n",
    "titlel = driver.find_elements_by_xpath('//div[@class=\"mt-n1\"]')\n",
    "# print(len(titlel))\n",
    "for i in titlel:\n",
    "    print(i.text)\n",
    "    OutputFile.writelines(i.text)"
   ]
  },
  {
   "cell_type": "code",
   "execution_count": 15,
   "metadata": {},
   "outputs": [
    {
     "name": "stdout",
     "output_type": "stream",
     "text": [
      "10\n",
      "https://github.com/hamzag95/voice-classification\n",
      "https://github.com/tiepvupsu/zalo_voice\n",
      "https://github.com/manishmalik/Voice-Classification\n",
      "https://github.com/gionanide/Speech_Signal_Processing_and_Classification\n",
      "https://github.com/singhamanraj/Gender-Voice-Recognition_Machine-Learning\n",
      "https://github.com/keums/melodyExtraction_JDC\n",
      "https://github.com/anshulshah96/Voice-Synthesizer\n",
      "https://github.com/theSoenke/VoiceClassification\n",
      "https://github.com/dashayushman/Voice\n",
      "https://github.com/gwillig/Digital-signal-processing-2-Voice-recognition-classification\n"
     ]
    }
   ],
   "source": [
    "titlel= []\n",
    "titlel = driver.find_elements_by_xpath('//div[@class=\"mt-n1\"]')\n",
    "print(len(titlel))\n",
    "# print(titlel[0].url)\n",
    "for i in titlel:\n",
    "    link = i.find_element_by_xpath('.//a[@class=\"v-align-middle\"]')\n",
    "    temp = link.get_attribute('href')\n",
    "    \n",
    "    print(temp)\n",
    "    OutputFile.writelines(temp)"
   ]
  },
  {
   "cell_type": "code",
   "execution_count": 16,
   "metadata": {},
   "outputs": [
    {
     "name": "stdout",
     "output_type": "stream",
     "text": [
      "hamzag95/voice-classification\n",
      "62\n",
      "Jupyter Notebook\n",
      "Updated on Oct 24, 2019\n"
     ]
    }
   ],
   "source": [
    "element=driver.find_elements_by_xpath('/html/body/div[4]/main/div/div[3]/div/ul/li[1]/div[2]')\n",
    "for value in element:\n",
    "    print(value.text)\n",
    "    OutputFile.writelines(value.text)"
   ]
  },
  {
   "cell_type": "code",
   "execution_count": 17,
   "metadata": {},
   "outputs": [
    {
     "name": "stdout",
     "output_type": "stream",
     "text": [
      "tiepvupsu/zalo_voice\n",
      "Zalo AI chalenge Voice Gender classification (https://challenge.zalo.ai/)\n",
      "87\n",
      "Python\n",
      "Updated on Sep 7, 2018\n"
     ]
    }
   ],
   "source": [
    "element=driver.find_elements_by_xpath('/html/body/div[4]/main/div/div[3]/div/ul/li[2]')\n",
    "for value in element:\n",
    "    print(value.text)\n",
    "    OutputFile.writelines(value.text)"
   ]
  },
  {
   "cell_type": "code",
   "execution_count": 18,
   "metadata": {},
   "outputs": [
    {
     "name": "stdout",
     "output_type": "stream",
     "text": [
      "manishmalik/Voice-Classification\n",
      "Gender Classification from voice\n",
      "11\n",
      "Python\n",
      "Updated on Apr 27, 2015\n"
     ]
    }
   ],
   "source": [
    "element=driver.find_elements_by_xpath('/html/body/div[4]/main/div/div[3]/div/ul/li[3]')\n",
    "for value in element:\n",
    "    print(value.text)\n",
    "    OutputFile.writelines(value.text)"
   ]
  },
  {
   "cell_type": "code",
   "execution_count": 19,
   "metadata": {},
   "outputs": [
    {
     "name": "stdout",
     "output_type": "stream",
     "text": [
      "gionanide/Speech_Signal_Processing_and_Classification\n",
      "interesting in voice disorder classification. That is, to develop two-class classifiers, which can discriminate betw…\n",
      "speech-processing speech-utterance linear-prediction-coefficients mfcc classifier nlp natural-language-processing feature-extraction nltk gaussian-mixture-models support-vector-machines principal-component-analysis linear-discriminant-analysis isomap spectral-clustering long-short-term-memory kernel-pca spectral-embedding locally-linear-embedding\n",
      "94\n",
      "Python\n",
      "MIT license\n",
      "Updated on Nov 13, 2019\n"
     ]
    }
   ],
   "source": [
    "element=driver.find_elements_by_xpath('/html/body/div[4]/main/div/div[3]/div/ul/li[4]')\n",
    "for value in element:\n",
    "    print(value.text)\n",
    "    OutputFile.writelines(value.text)"
   ]
  },
  {
   "cell_type": "code",
   "execution_count": 20,
   "metadata": {},
   "outputs": [
    {
     "name": "stdout",
     "output_type": "stream",
     "text": [
      "singhamanraj/Gender-Voice-Recognition_Machine-Learning\n",
      "Supervised Machine Learning Classification Algorithms using Python and R (Logistic Regression, Decision Tree, Random …\n",
      "random-forest logistic-regression python-3 decision-tree svm-classifier scikitlearn-machine-learning rprogramming\n",
      "6\n",
      "Jupyter Notebook\n",
      "Updated on May 13, 2018\n"
     ]
    }
   ],
   "source": [
    "element=driver.find_elements_by_xpath('/html/body/div[4]/main/div/div[3]/div/ul/li[5]')\n",
    "for value in element:\n",
    "    print(value.text)\n",
    "    OutputFile.writelines(value.text)"
   ]
  },
  {
   "cell_type": "code",
   "execution_count": 21,
   "metadata": {},
   "outputs": [],
   "source": [
    "search = driver.find_element_by_name(\"q\")"
   ]
  },
  {
   "cell_type": "code",
   "execution_count": 22,
   "metadata": {},
   "outputs": [],
   "source": [
    "search.clear()"
   ]
  },
  {
   "cell_type": "code",
   "execution_count": 23,
   "metadata": {},
   "outputs": [],
   "source": [
    "search.send_keys(\"image classification\")\n",
    "search.send_keys(Keys.ENTER)"
   ]
  },
  {
   "cell_type": "code",
   "execution_count": 24,
   "metadata": {},
   "outputs": [
    {
     "name": "stdout",
     "output_type": "stream",
     "text": [
      "Repositories\n",
      "12K\n",
      "Code\n",
      "5M+\n",
      "Commits\n",
      "31K\n",
      "Issues\n",
      "28K\n",
      "Packages\n",
      "0\n",
      "Marketplace\n",
      "0\n",
      "Topics\n",
      "32\n",
      "Wikis\n",
      "7K\n",
      "Users\n",
      "62\n"
     ]
    }
   ],
   "source": [
    "element=driver.find_elements_by_xpath('/html/body/div[4]/main/div/div[2]/nav[1]')\n",
    "for value in element:\n",
    "    print(value.text)\n",
    "    OutputFile.writelines(value.text)"
   ]
  },
  {
   "cell_type": "code",
   "execution_count": 25,
   "metadata": {},
   "outputs": [
    {
     "name": "stdout",
     "output_type": "stream",
     "text": [
      "Languages\n",
      "4,401\n",
      "Jupyter Notebook\n",
      "4,194\n",
      "Python\n",
      "1,150\n",
      "HTML\n",
      "463\n",
      "MATLAB\n",
      "285\n",
      "JavaScript\n",
      "192\n",
      "Java\n",
      "191\n",
      "C++\n",
      "118\n",
      "R\n",
      "64\n",
      "Swift\n",
      "57\n",
      "C#\n"
     ]
    }
   ],
   "source": [
    "element=driver.find_elements_by_xpath('/html/body/div[4]/main/div/div[2]/div[1]')\n",
    "for value in element:\n",
    "    print(value.text)\n",
    "    OutputFile.writelines(value.text)"
   ]
  },
  {
   "cell_type": "code",
   "execution_count": 26,
   "metadata": {},
   "outputs": [
    {
     "name": "stdout",
     "output_type": "stream",
     "text": [
      "weiaicunzai/awesome-image-classification\n",
      "rdcolema/tensorflow-image-classification\n",
      "miraclewkf/ImageClassification-PyTorch\n",
      "hysts/pytorch_image_classification\n",
      "NVIDIA-AI-IOT/tf_to_trt_image_classification\n",
      "HRNet/HRNet-Image-Classification\n",
      "suraj-deshmukh/Keras-Multi-Label-Image-Classification\n",
      "fwang91/residual-attention-network\n",
      "wolfib/image-classification-CIFAR10-tf\n",
      "idealo/imageatm\n"
     ]
    }
   ],
   "source": [
    "titlel= []\n",
    "titlel = driver.find_elements_by_xpath('//a[@class=\"v-align-middle\"]')\n",
    "# print(len(titlel))\n",
    "for i in titlel:\n",
    "    print(i.text)\n",
    "    OutputFile.writelines(i.text)"
   ]
  },
  {
   "cell_type": "code",
   "execution_count": 27,
   "metadata": {},
   "outputs": [
    {
     "name": "stdout",
     "output_type": "stream",
     "text": [
      "weiaicunzai/awesome-image-classification\n",
      "A curated list of deep learning image classification papers and codes\n",
      "deep-learning awesome computer-vision image-classification awesome-list papers\n",
      "1.1k\n",
      "Updated 15 days ago\n",
      "rdcolema/tensorflow-image-classification\n",
      "CNN for multi-class image recognition in tensorflow\n",
      "271\n",
      "Jupyter Notebook\n",
      "Updated on Dec 17, 2019\n",
      "miraclewkf/ImageClassification-PyTorch\n",
      "107\n",
      "Python\n",
      "Updated on Mar 7, 2019\n",
      "hysts/pytorch_image_classification\n",
      "PyTorch implementation of image classification models for CIFAR-10/CIFAR-100/MNIST/FashionMNIST/Kuzushiji-MNIST\n",
      "pytorch computer-vision cifar10 fashion-mnist\n",
      "386\n",
      "Python\n",
      "MIT license\n",
      "Updated on Jan 27, 2019\n",
      "NVIDIA-AI-IOT/tf_to_trt_image_classification\n",
      "Image classification with NVIDIA TensorRT from TensorFlow models.\n",
      "tensorflow-models benchmark jetson-tx2 tensorflow tensorrt\n",
      "371\n",
      "Python\n",
      "Updated on Jan 22, 2019\n",
      "HRNet/HRNet-Image-Classification\n",
      "Train the HRNet model on ImageNet\n",
      "imagenet image-classification high-resolution-net hrnets\n",
      "398\n",
      "Python\n",
      "MIT license\n",
      "Updated 12 days ago\n",
      "suraj-deshmukh/Keras-Multi-Label-Image-Classification\n",
      "Keras- Multi Label Image Classification\n",
      "multi-label natural-scenes deep-learning keras convolutional-neural-networks\n",
      "282\n",
      "Jupyter Notebook\n",
      "Updated 17 days ago\n",
      "fwang91/residual-attention-network\n",
      "Residual Attention Network for Image Classification\n",
      "attention image-classification cvpr-2017\n",
      "457\n",
      "Updated on Jul 21, 2017\n",
      "wolfib/image-classification-CIFAR10-tf\n",
      "Simple Image Classification Models for the CIFAR-10 dataset using TensorFlow\n",
      "138\n",
      "Python\n",
      "MIT license\n",
      "Updated on Mar 23, 2017\n",
      "idealo/imageatm\n",
      "Image classification for everyone.\n",
      "image-classification transfer-learning machine-learning computer-vision deep-learning neural-network tensorflow keras\n",
      "169\n",
      "Python\n",
      "Apache-2.0 license\n",
      "Updated 10 days ago\n"
     ]
    }
   ],
   "source": [
    "titlel= []\n",
    "titlel = driver.find_elements_by_xpath('//div[@class=\"mt-n1\"]')\n",
    "# print(len(titlel))\n",
    "for i in titlel:\n",
    "    print(i.text)\n",
    "    OutputFile.writelines(i.text)"
   ]
  },
  {
   "cell_type": "code",
   "execution_count": 28,
   "metadata": {},
   "outputs": [
    {
     "name": "stdout",
     "output_type": "stream",
     "text": [
      "10\n",
      "https://github.com/weiaicunzai/awesome-image-classification\n",
      "https://github.com/rdcolema/tensorflow-image-classification\n",
      "https://github.com/miraclewkf/ImageClassification-PyTorch\n",
      "https://github.com/hysts/pytorch_image_classification\n",
      "https://github.com/NVIDIA-AI-IOT/tf_to_trt_image_classification\n",
      "https://github.com/HRNet/HRNet-Image-Classification\n",
      "https://github.com/suraj-deshmukh/Keras-Multi-Label-Image-Classification\n",
      "https://github.com/fwang91/residual-attention-network\n",
      "https://github.com/wolfib/image-classification-CIFAR10-tf\n",
      "https://github.com/idealo/imageatm\n"
     ]
    }
   ],
   "source": [
    "titlel= []\n",
    "titlel = driver.find_elements_by_xpath('//div[@class=\"mt-n1\"]')\n",
    "print(len(titlel))\n",
    "# print(titlel[0].url)\n",
    "for i in titlel:\n",
    "    link = i.find_element_by_xpath('.//a[@class=\"v-align-middle\"]')\n",
    "    temp = link.get_attribute('href')\n",
    "    \n",
    "    print(temp)\n",
    "    OutputFile.writelines(temp)"
   ]
  },
  {
   "cell_type": "code",
   "execution_count": 29,
   "metadata": {},
   "outputs": [
    {
     "name": "stdout",
     "output_type": "stream",
     "text": [
      "weiaicunzai/awesome-image-classification\n",
      "A curated list of deep learning image classification papers and codes\n",
      "deep-learning awesome computer-vision image-classification awesome-list papers\n",
      "1.1k\n",
      "Updated 15 days ago\n"
     ]
    }
   ],
   "source": [
    "element=driver.find_elements_by_xpath('/html/body/div[4]/main/div/div[3]/div/ul/li[1]/div[2]')\n",
    "for value in element:\n",
    "    print(value.text)\n",
    "    OutputFile.writelines(value.text)"
   ]
  },
  {
   "cell_type": "code",
   "execution_count": 30,
   "metadata": {},
   "outputs": [
    {
     "name": "stdout",
     "output_type": "stream",
     "text": [
      "rdcolema/tensorflow-image-classification\n",
      "CNN for multi-class image recognition in tensorflow\n",
      "271\n",
      "Jupyter Notebook\n",
      "Updated on Dec 17, 2019\n"
     ]
    }
   ],
   "source": [
    "element=driver.find_elements_by_xpath('/html/body/div[4]/main/div/div[3]/div/ul/li[2]')\n",
    "for value in element:\n",
    "    print(value.text)\n",
    "    OutputFile.writelines(value.text)"
   ]
  },
  {
   "cell_type": "code",
   "execution_count": 31,
   "metadata": {},
   "outputs": [
    {
     "name": "stdout",
     "output_type": "stream",
     "text": [
      "miraclewkf/ImageClassification-PyTorch\n",
      "107\n",
      "Python\n",
      "Updated on Mar 7, 2019\n"
     ]
    }
   ],
   "source": [
    "element=driver.find_elements_by_xpath('/html/body/div[4]/main/div/div[3]/div/ul/li[3]')\n",
    "for value in element:\n",
    "    print(value.text)\n",
    "    OutputFile.writelines(value.text)"
   ]
  },
  {
   "cell_type": "code",
   "execution_count": 32,
   "metadata": {},
   "outputs": [
    {
     "name": "stdout",
     "output_type": "stream",
     "text": [
      "hysts/pytorch_image_classification\n",
      "PyTorch implementation of image classification models for CIFAR-10/CIFAR-100/MNIST/FashionMNIST/Kuzushiji-MNIST\n",
      "pytorch computer-vision cifar10 fashion-mnist\n",
      "386\n",
      "Python\n",
      "MIT license\n",
      "Updated on Jan 27, 2019\n"
     ]
    }
   ],
   "source": [
    "element=driver.find_elements_by_xpath('/html/body/div[4]/main/div/div[3]/div/ul/li[4]')\n",
    "for value in element:\n",
    "    print(value.text)\n",
    "    OutputFile.writelines(value.text)"
   ]
  },
  {
   "cell_type": "code",
   "execution_count": 34,
   "metadata": {},
   "outputs": [],
   "source": [
    "search = driver.find_element_by_name(\"q\")"
   ]
  },
  {
   "cell_type": "code",
   "execution_count": 35,
   "metadata": {},
   "outputs": [],
   "source": [
    "search.clear()"
   ]
  },
  {
   "cell_type": "code",
   "execution_count": 36,
   "metadata": {},
   "outputs": [],
   "source": [
    "driver.execute_script(\"window.history.go(-1)\")"
   ]
  },
  {
   "cell_type": "code",
   "execution_count": null,
   "metadata": {},
   "outputs": [],
   "source": []
  },
  {
   "cell_type": "code",
   "execution_count": null,
   "metadata": {},
   "outputs": [],
   "source": []
  },
  {
   "cell_type": "code",
   "execution_count": null,
   "metadata": {},
   "outputs": [],
   "source": []
  },
  {
   "cell_type": "code",
   "execution_count": null,
   "metadata": {},
   "outputs": [],
   "source": []
  },
  {
   "cell_type": "code",
   "execution_count": null,
   "metadata": {},
   "outputs": [],
   "source": []
  },
  {
   "cell_type": "code",
   "execution_count": null,
   "metadata": {},
   "outputs": [],
   "source": []
  },
  {
   "cell_type": "code",
   "execution_count": null,
   "metadata": {},
   "outputs": [],
   "source": []
  },
  {
   "cell_type": "code",
   "execution_count": null,
   "metadata": {},
   "outputs": [],
   "source": []
  },
  {
   "cell_type": "code",
   "execution_count": null,
   "metadata": {},
   "outputs": [],
   "source": []
  },
  {
   "cell_type": "code",
   "execution_count": null,
   "metadata": {},
   "outputs": [],
   "source": []
  }
 ],
 "metadata": {
  "kernelspec": {
   "display_name": "Python 3",
   "language": "python",
   "name": "python3"
  },
  "language_info": {
   "codemirror_mode": {
    "name": "ipython",
    "version": 3
   },
   "file_extension": ".py",
   "mimetype": "text/x-python",
   "name": "python",
   "nbconvert_exporter": "python",
   "pygments_lexer": "ipython3",
   "version": "3.6.4"
  }
 },
 "nbformat": 4,
 "nbformat_minor": 2
}
